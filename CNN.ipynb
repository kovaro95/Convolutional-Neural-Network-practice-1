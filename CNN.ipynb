{
  "nbformat": 4,
  "nbformat_minor": 0,
  "metadata": {
    "colab": {
      "name": "CNN.ipynb",
      "provenance": [],
      "collapsed_sections": [],
      "authorship_tag": "ABX9TyMGFWS0/xxbq+pVqGpMKMAX",
      "include_colab_link": true
    },
    "kernelspec": {
      "name": "python3",
      "display_name": "Python 3"
    }
  },
  "cells": [
    {
      "cell_type": "markdown",
      "metadata": {
        "id": "view-in-github",
        "colab_type": "text"
      },
      "source": [
        "<a href=\"https://colab.research.google.com/github/kovaro95/Convolutional-Neural-Network-practice-1/blob/main/CNN.ipynb\" target=\"_parent\"><img src=\"https://colab.research.google.com/assets/colab-badge.svg\" alt=\"Open In Colab\"/></a>"
      ]
    },
    {
      "cell_type": "code",
      "metadata": {
        "id": "M36BYciB6XSO"
      },
      "source": [
        "import pandas as pd\n",
        "import numpy as np\n",
        "import tensorflow\n",
        "import keras\n",
        "\n",
        "from matplotlib import pyplot as plt\n",
        "\n",
        "from sklearn.preprocessing import Normalizer\n",
        "\n",
        "from keras.utils import to_categorical\n",
        "\n",
        "from keras.models import Sequential\n",
        "from keras.layers import Activation,Conv2D,MaxPooling2D,Flatten,Dropout,Dense"
      ],
      "execution_count": null,
      "outputs": []
    },
    {
      "cell_type": "code",
      "metadata": {
        "id": "bPkuflRY6fpD"
      },
      "source": [
        "from keras.datasets import mnist\n",
        "(x_train,y_train),(x_test,y_test) = mnist.load_data()"
      ],
      "execution_count": null,
      "outputs": []
    },
    {
      "cell_type": "code",
      "metadata": {
        "id": "8-mKPidL6w1X",
        "outputId": "16ae9d62-9194-401e-c616-686254a29dae",
        "colab": {
          "base_uri": "https://localhost:8080/",
          "height": 51
        }
      },
      "source": [
        "answ1=x_train.shape[0]+x_test.shape[0]\n",
        "answ2=x_train[0].shape[0]*x_train[0].shape[1]\n",
        "\n",
        "print(f\"Number of images:{answ1}\\nNumber of pixels in image:{answ2}\")"
      ],
      "execution_count": null,
      "outputs": [
        {
          "output_type": "stream",
          "text": [
            "Number of images:70000\n",
            "Number of pixels in image:784\n"
          ],
          "name": "stdout"
        }
      ]
    },
    {
      "cell_type": "code",
      "metadata": {
        "id": "6VuvDWK8_XRV"
      },
      "source": [
        "num_classes=len(np.unique(y_test))"
      ],
      "execution_count": null,
      "outputs": []
    },
    {
      "cell_type": "code",
      "metadata": {
        "id": "pLWHggEM8bzp"
      },
      "source": [
        "y_train=to_categorical(y_train,num_classes)\n",
        "y_test=to_categorical(y_test,num_classes)"
      ],
      "execution_count": null,
      "outputs": []
    },
    {
      "cell_type": "code",
      "metadata": {
        "id": "6L2squc--cYq"
      },
      "source": [
        "scaler_dict={}\n",
        "x_train_scaled=np.empty([60000,28,28])\n",
        "x_test_scaled=np.empty([10000,28,28])\n",
        "\n",
        "for i in range(x_train.shape[0]):\n",
        "  scaler_dict[i] =Normalizer().fit(x_train[i])\n",
        "  x_train_scaled[i] = scaler_dict[i].transform(x_train[i])\n",
        "for i in range(x_test.shape[0]): \n",
        "  x_test_scaled[i] = scaler_dict[i].transform(x_test[i])"
      ],
      "execution_count": null,
      "outputs": []
    },
    {
      "cell_type": "code",
      "metadata": {
        "id": "2Q7xlS2R3_K0"
      },
      "source": [
        "x_train_scaled=x_train_scaled.reshape(x_train_scaled.shape[0],x_train_scaled.shape[1],x_train_scaled.shape[2],1)\n",
        "x_test_scaled=x_test_scaled.reshape(x_test_scaled.shape[0],x_test_scaled.shape[1],x_test_scaled.shape[2],1)"
      ],
      "execution_count": null,
      "outputs": []
    },
    {
      "cell_type": "code",
      "metadata": {
        "id": "vTWnBzLLDClu"
      },
      "source": [
        "model = Sequential()\n",
        "\n",
        "model.add(Conv2D(16,(3,3),padding='same',input_shape=x_train_scaled.shape[1:]))\n",
        "model.add(Activation('relu'))\n",
        "model.add(Conv2D(16,(3,3)))\n",
        "model.add(Activation('relu'))\n",
        "model.add(MaxPooling2D(pool_size=(2,2)))\n",
        "model.add(Dropout(0.4))\n",
        "model.add(Conv2D(32,(3,3), padding='same'))\n",
        "model.add(Activation('relu'))\n",
        "model.add(Conv2D(32,(3, 3)))\n",
        "model.add(Activation('relu'))\n",
        "model.add(MaxPooling2D(pool_size=(2,2)))\n",
        "model.add(Dropout(0.25))\n",
        "model.add(Flatten())\n",
        "model.add(Dense(512))\n",
        "model.add(Activation('relu'))\n",
        "model.add(Dropout(0.5))\n",
        "model.add(Dense(num_classes))\n",
        "model.add(Activation('softmax'))"
      ],
      "execution_count": null,
      "outputs": []
    },
    {
      "cell_type": "code",
      "metadata": {
        "id": "wLFQUZ0RGgHe",
        "outputId": "73ac509b-c6a0-45df-dbbe-abcfe1c3278e",
        "colab": {
          "base_uri": "https://localhost:8080/",
          "height": 34
        }
      },
      "source": [
        "model.output_shape"
      ],
      "execution_count": null,
      "outputs": [
        {
          "output_type": "execute_result",
          "data": {
            "text/plain": [
              "(None, 10)"
            ]
          },
          "metadata": {
            "tags": []
          },
          "execution_count": 9
        }
      ]
    },
    {
      "cell_type": "code",
      "metadata": {
        "id": "9n_4bQiTGhGI",
        "outputId": "fcf78e23-64b4-4f4a-b061-94fea6ff964a",
        "colab": {
          "base_uri": "https://localhost:8080/",
          "height": 765
        }
      },
      "source": [
        "model.summary()"
      ],
      "execution_count": null,
      "outputs": [
        {
          "output_type": "stream",
          "text": [
            "Model: \"sequential\"\n",
            "_________________________________________________________________\n",
            "Layer (type)                 Output Shape              Param #   \n",
            "=================================================================\n",
            "conv2d (Conv2D)              (None, 28, 28, 16)        160       \n",
            "_________________________________________________________________\n",
            "activation (Activation)      (None, 28, 28, 16)        0         \n",
            "_________________________________________________________________\n",
            "conv2d_1 (Conv2D)            (None, 26, 26, 16)        2320      \n",
            "_________________________________________________________________\n",
            "activation_1 (Activation)    (None, 26, 26, 16)        0         \n",
            "_________________________________________________________________\n",
            "max_pooling2d (MaxPooling2D) (None, 13, 13, 16)        0         \n",
            "_________________________________________________________________\n",
            "dropout (Dropout)            (None, 13, 13, 16)        0         \n",
            "_________________________________________________________________\n",
            "conv2d_2 (Conv2D)            (None, 13, 13, 32)        4640      \n",
            "_________________________________________________________________\n",
            "activation_2 (Activation)    (None, 13, 13, 32)        0         \n",
            "_________________________________________________________________\n",
            "conv2d_3 (Conv2D)            (None, 11, 11, 32)        9248      \n",
            "_________________________________________________________________\n",
            "activation_3 (Activation)    (None, 11, 11, 32)        0         \n",
            "_________________________________________________________________\n",
            "max_pooling2d_1 (MaxPooling2 (None, 5, 5, 32)          0         \n",
            "_________________________________________________________________\n",
            "dropout_1 (Dropout)          (None, 5, 5, 32)          0         \n",
            "_________________________________________________________________\n",
            "flatten (Flatten)            (None, 800)               0         \n",
            "_________________________________________________________________\n",
            "dense (Dense)                (None, 512)               410112    \n",
            "_________________________________________________________________\n",
            "activation_4 (Activation)    (None, 512)               0         \n",
            "_________________________________________________________________\n",
            "dropout_2 (Dropout)          (None, 512)               0         \n",
            "_________________________________________________________________\n",
            "dense_1 (Dense)              (None, 10)                5130      \n",
            "_________________________________________________________________\n",
            "activation_5 (Activation)    (None, 10)                0         \n",
            "=================================================================\n",
            "Total params: 431,610\n",
            "Trainable params: 431,610\n",
            "Non-trainable params: 0\n",
            "_________________________________________________________________\n"
          ],
          "name": "stdout"
        }
      ]
    },
    {
      "cell_type": "code",
      "metadata": {
        "id": "aqh_uSWHHgW2"
      },
      "source": [
        "model.compile(optimizer='rmsprop',loss='categorical_crossentropy',metrics=['accuracy'])"
      ],
      "execution_count": null,
      "outputs": []
    },
    {
      "cell_type": "code",
      "metadata": {
        "id": "hmxOo4j1HONz",
        "outputId": "c435d4a5-e2b7-49e3-8305-aa8351d1e5f6",
        "colab": {
          "base_uri": "https://localhost:8080/",
          "height": 374
        }
      },
      "source": [
        "model.fit(x_train_scaled,y_train,batch_size=32,epochs=10,verbose=1,validation_data=(x_test_scaled,y_test)) "
      ],
      "execution_count": null,
      "outputs": [
        {
          "output_type": "stream",
          "text": [
            "Epoch 1/10\n",
            "1875/1875 [==============================] - 104s 56ms/step - loss: 0.2202 - accuracy: 0.9296 - val_loss: 0.0533 - val_accuracy: 0.9840\n",
            "Epoch 2/10\n",
            "1875/1875 [==============================] - 106s 57ms/step - loss: 0.0910 - accuracy: 0.9722 - val_loss: 0.0357 - val_accuracy: 0.9884\n",
            "Epoch 3/10\n",
            "1875/1875 [==============================] - 106s 56ms/step - loss: 0.0762 - accuracy: 0.9767 - val_loss: 0.0370 - val_accuracy: 0.9880\n",
            "Epoch 4/10\n",
            "1875/1875 [==============================] - 106s 56ms/step - loss: 0.0714 - accuracy: 0.9796 - val_loss: 0.0396 - val_accuracy: 0.9869\n",
            "Epoch 5/10\n",
            "1875/1875 [==============================] - 105s 56ms/step - loss: 0.0706 - accuracy: 0.9793 - val_loss: 0.0353 - val_accuracy: 0.9888\n",
            "Epoch 6/10\n",
            "1875/1875 [==============================] - 105s 56ms/step - loss: 0.0723 - accuracy: 0.9797 - val_loss: 0.0418 - val_accuracy: 0.9874\n",
            "Epoch 7/10\n",
            "1875/1875 [==============================] - 105s 56ms/step - loss: 0.0797 - accuracy: 0.9788 - val_loss: 0.0404 - val_accuracy: 0.9867\n",
            "Epoch 8/10\n",
            "1875/1875 [==============================] - 106s 56ms/step - loss: 0.0853 - accuracy: 0.9766 - val_loss: 0.0369 - val_accuracy: 0.9884\n",
            "Epoch 9/10\n",
            "1875/1875 [==============================] - 106s 57ms/step - loss: 0.0874 - accuracy: 0.9761 - val_loss: 0.0480 - val_accuracy: 0.9877\n",
            "Epoch 10/10\n",
            "1875/1875 [==============================] - 105s 56ms/step - loss: 0.0919 - accuracy: 0.9761 - val_loss: 0.0521 - val_accuracy: 0.9851\n"
          ],
          "name": "stdout"
        },
        {
          "output_type": "execute_result",
          "data": {
            "text/plain": [
              "<tensorflow.python.keras.callbacks.History at 0x7f66c3be7710>"
            ]
          },
          "metadata": {
            "tags": []
          },
          "execution_count": 14
        }
      ]
    }
  ]
}